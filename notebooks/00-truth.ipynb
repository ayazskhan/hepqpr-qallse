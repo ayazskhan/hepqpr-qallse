{
 "cells": [
  {
   "cell_type": "markdown",
   "metadata": {},
   "source": []
  },
  {
   "cell_type": "code",
   "execution_count": 1,
   "metadata": {},
   "outputs": [
    {
     "data": {
      "text/html": [
       "<script type=\"text/javascript\">window.PlotlyConfig = {MathJaxConfig: 'local'};</script><script type=\"text/javascript\">if (window.MathJax) {MathJax.Hub.Config({SVG: {font: \"STIX-Web\"}});}</script><script>requirejs.config({paths: { 'plotly': ['https://cdn.plot.ly/plotly-latest.min']},});if(!window._Plotly) {require(['plotly'],function(plotly) {window._Plotly=plotly;});}</script>"
      ],
      "text/vnd.plotly.v1+html": [
       "<script type=\"text/javascript\">window.PlotlyConfig = {MathJaxConfig: 'local'};</script><script type=\"text/javascript\">if (window.MathJax) {MathJax.Hub.Config({SVG: {font: \"STIX-Web\"}});}</script><script>requirejs.config({paths: { 'plotly': ['https://cdn.plot.ly/plotly-latest.min']},});if(!window._Plotly) {require(['plotly'],function(plotly) {window._Plotly=plotly;});}</script>"
      ]
     },
     "metadata": {},
     "output_type": "display_data"
    }
   ],
   "source": [
    " # import modules\n",
    "import pandas as pd\n",
    "import numpy as np\n",
    "\n",
    "from hepqpr.qallse.plotting import *\n",
    "from hepqpr.qallse import *\n",
    "\n",
    "# initialise the plotting module in \"notebook\" mode\n",
    "set_notebook_mode()\n",
    "\n",
    "# initialise matplotlib\n",
    "%matplotlib inline\n",
    "import matplotlib.pyplot as plt\n",
    "\n",
    "# initialise the logging module\n",
    "import logging\n",
    "logging.basicConfig(level=logging.INFO)\n",
    "logging.getLogger('hepqpr').setLevel(logging.DEBUG)"
   ]
  },
  {
   "cell_type": "code",
   "execution_count": 2,
   "metadata": {},
   "outputs": [],
   "source": [
    "# setup matplotlib\n",
    "import matplotlib\n",
    "\n",
    "# set big font in plots\n",
    "SMALL_SIZE = 14\n",
    "matplotlib.rc('font', size=SMALL_SIZE)\n",
    "matplotlib.rc('axes', titlesize=SMALL_SIZE)"
   ]
  },
  {
   "cell_type": "markdown",
   "metadata": {},
   "source": [
    "# Prepare data"
   ]
  },
  {
   "cell_type": "markdown",
   "metadata": {},
   "source": [
    "## Load from filesystem"
   ]
  },
  {
   "cell_type": "code",
   "execution_count": 3,
   "metadata": {},
   "outputs": [],
   "source": [
    "path = '~/git/quantum-annealing-project/trackml-data/train_100_events/event000001000'\n",
    "\n",
    "hits = pd.read_csv(path + '-hits.csv').set_index('hit_id', drop=False)\n",
    "hits.index.rename('idx')\n",
    "\n",
    "truth = pd.read_csv(path + '-truth.csv').set_index('hit_id', drop=False)\n",
    "truth.index.rename('idx')\n",
    "\n",
    "hits = hits[hits.volume_id.isin([8,13,17])]\n",
    "truth = truth.loc[hits.index]\n",
    "\n",
    "_ = _"
   ]
  },
  {
   "cell_type": "code",
   "execution_count": 4,
   "metadata": {},
   "outputs": [
    {
     "data": {
      "text/plain": [
       "(65518, 52482)"
      ]
     },
     "execution_count": 4,
     "metadata": {},
     "output_type": "execute_result"
    }
   ],
   "source": [
    "len(hits), len(truth[truth.particle_id != 0])"
   ]
  },
  {
   "cell_type": "markdown",
   "metadata": {},
   "source": [
    "## Prepare datasets"
   ]
  },
  {
   "cell_type": "code",
   "execution_count": 5,
   "metadata": {},
   "outputs": [],
   "source": [
    "hits['r'] = np.sqrt(hits.x**2 + hits.y**2)\n",
    "\n",
    "df = hits.join(truth, rsuffix='_', how='inner')\n",
    "df = df[hits.volume_id.isin([8,13,17])]"
   ]
  },
  {
   "cell_type": "markdown",
   "metadata": {},
   "source": [
    "### Keep true hits only, remove duplicates"
   ]
  },
  {
   "cell_type": "code",
   "execution_count": 6,
   "metadata": {},
   "outputs": [],
   "source": [
    "df = df[df.particle_id != 0]\n",
    "df.drop_duplicates(['particle_id', 'volume_id', 'layer_id'], keep='first', inplace=True)"
   ]
  },
  {
   "cell_type": "markdown",
   "metadata": {},
   "source": [
    "### Apply a 1GeV cut"
   ]
  },
  {
   "cell_type": "code",
   "execution_count": 7,
   "metadata": {},
   "outputs": [],
   "source": [
    "df = df[np.sqrt(df.tpx ** 2 + df.tpy ** 2) > 1]"
   ]
  },
  {
   "cell_type": "code",
   "execution_count": 39,
   "metadata": {},
   "outputs": [
    {
     "data": {
      "text/plain": [
       "(6438, 1101)"
      ]
     },
     "execution_count": 39,
     "metadata": {},
     "output_type": "execute_result"
    }
   ],
   "source": [
    "hits = hits.loc[df.index]\n",
    "truth = truth.loc[df.index]\n",
    "len(hits), truth.particle_id.nunique()"
   ]
  },
  {
   "cell_type": "markdown",
   "metadata": {},
   "source": [
    "### Add volyer info"
   ]
  },
  {
   "cell_type": "code",
   "execution_count": 9,
   "metadata": {},
   "outputs": [],
   "source": [
    "hits['volayer'] = [Volayer.get_index(tuple(i)) for i in hits[['volume_id', 'layer_id']].values]"
   ]
  },
  {
   "cell_type": "code",
   "execution_count": 10,
   "metadata": {},
   "outputs": [
    {
     "data": {
      "text/html": [
       "<div>\n",
       "<style scoped>\n",
       "    .dataframe tbody tr th:only-of-type {\n",
       "        vertical-align: middle;\n",
       "    }\n",
       "\n",
       "    .dataframe tbody tr th {\n",
       "        vertical-align: top;\n",
       "    }\n",
       "\n",
       "    .dataframe thead th {\n",
       "        text-align: right;\n",
       "    }\n",
       "</style>\n",
       "<table border=\"1\" class=\"dataframe\">\n",
       "  <thead>\n",
       "    <tr style=\"text-align: right;\">\n",
       "      <th></th>\n",
       "      <th>hit_id</th>\n",
       "      <th>x</th>\n",
       "      <th>y</th>\n",
       "      <th>z</th>\n",
       "      <th>volume_id</th>\n",
       "      <th>layer_id</th>\n",
       "      <th>module_id</th>\n",
       "      <th>r</th>\n",
       "      <th>volayer</th>\n",
       "    </tr>\n",
       "    <tr>\n",
       "      <th>hit_id</th>\n",
       "      <th></th>\n",
       "      <th></th>\n",
       "      <th></th>\n",
       "      <th></th>\n",
       "      <th></th>\n",
       "      <th></th>\n",
       "      <th></th>\n",
       "      <th></th>\n",
       "      <th></th>\n",
       "    </tr>\n",
       "  </thead>\n",
       "  <tbody>\n",
       "    <tr>\n",
       "      <th>16946</th>\n",
       "      <td>16946</td>\n",
       "      <td>-31.144400</td>\n",
       "      <td>-7.68151</td>\n",
       "      <td>-284.714</td>\n",
       "      <td>8</td>\n",
       "      <td>2</td>\n",
       "      <td>33</td>\n",
       "      <td>32.077706</td>\n",
       "      <td>0</td>\n",
       "    </tr>\n",
       "    <tr>\n",
       "      <th>16951</th>\n",
       "      <td>16951</td>\n",
       "      <td>-24.658900</td>\n",
       "      <td>-20.33090</td>\n",
       "      <td>-315.132</td>\n",
       "      <td>8</td>\n",
       "      <td>2</td>\n",
       "      <td>34</td>\n",
       "      <td>31.959456</td>\n",
       "      <td>0</td>\n",
       "    </tr>\n",
       "    <tr>\n",
       "      <th>16971</th>\n",
       "      <td>16971</td>\n",
       "      <td>-0.557692</td>\n",
       "      <td>-31.95380</td>\n",
       "      <td>-311.788</td>\n",
       "      <td>8</td>\n",
       "      <td>2</td>\n",
       "      <td>36</td>\n",
       "      <td>31.958666</td>\n",
       "      <td>0</td>\n",
       "    </tr>\n",
       "    <tr>\n",
       "      <th>16977</th>\n",
       "      <td>16977</td>\n",
       "      <td>-4.841760</td>\n",
       "      <td>-31.71210</td>\n",
       "      <td>-321.638</td>\n",
       "      <td>8</td>\n",
       "      <td>2</td>\n",
       "      <td>36</td>\n",
       "      <td>32.079587</td>\n",
       "      <td>0</td>\n",
       "    </tr>\n",
       "    <tr>\n",
       "      <th>16987</th>\n",
       "      <td>16987</td>\n",
       "      <td>10.351200</td>\n",
       "      <td>-30.21100</td>\n",
       "      <td>-315.857</td>\n",
       "      <td>8</td>\n",
       "      <td>2</td>\n",
       "      <td>37</td>\n",
       "      <td>31.935120</td>\n",
       "      <td>0</td>\n",
       "    </tr>\n",
       "  </tbody>\n",
       "</table>\n",
       "</div>"
      ],
      "text/plain": [
       "        hit_id          x         y        z  volume_id  layer_id  module_id  \\\n",
       "hit_id                                                                         \n",
       "16946    16946 -31.144400  -7.68151 -284.714          8         2         33   \n",
       "16951    16951 -24.658900 -20.33090 -315.132          8         2         34   \n",
       "16971    16971  -0.557692 -31.95380 -311.788          8         2         36   \n",
       "16977    16977  -4.841760 -31.71210 -321.638          8         2         36   \n",
       "16987    16987  10.351200 -30.21100 -315.857          8         2         37   \n",
       "\n",
       "                r  volayer  \n",
       "hit_id                      \n",
       "16946   32.077706        0  \n",
       "16951   31.959456        0  \n",
       "16971   31.958666        0  \n",
       "16977   32.079587        0  \n",
       "16987   31.935120        0  "
      ]
     },
     "execution_count": 10,
     "metadata": {},
     "output_type": "execute_result"
    }
   ],
   "source": [
    "hits.head()"
   ]
  },
  {
   "cell_type": "markdown",
   "metadata": {},
   "source": [
    "# Analysis"
   ]
  },
  {
   "cell_type": "code",
   "execution_count": 11,
   "metadata": {},
   "outputs": [
    {
     "data": {
      "text/plain": [
       "(6438, 1101)"
      ]
     },
     "execution_count": 11,
     "metadata": {},
     "output_type": "execute_result"
    }
   ],
   "source": [
    "len(hits), truth.particle_id.nunique()"
   ]
  },
  {
   "cell_type": "code",
   "execution_count": 12,
   "metadata": {},
   "outputs": [
    {
     "data": {
      "text/plain": [
       "count    1101.000000\n",
       "mean        5.847411\n",
       "std         3.299913\n",
       "min         1.000000\n",
       "25%         2.000000\n",
       "50%         6.000000\n",
       "75%         9.000000\n",
       "max        10.000000\n",
       "Name: particle_id, dtype: float64"
      ]
     },
     "execution_count": 12,
     "metadata": {},
     "output_type": "execute_result"
    }
   ],
   "source": [
    "truth.groupby('particle_id').particle_id.count().describe()"
   ]
  },
  {
   "cell_type": "markdown",
   "metadata": {},
   "source": [
    "## Prepare doublets"
   ]
  },
  {
   "cell_type": "code",
   "execution_count": 13,
   "metadata": {},
   "outputs": [
    {
     "data": {
      "text/html": [
       "<div>\n",
       "<style scoped>\n",
       "    .dataframe tbody tr th:only-of-type {\n",
       "        vertical-align: middle;\n",
       "    }\n",
       "\n",
       "    .dataframe tbody tr th {\n",
       "        vertical-align: top;\n",
       "    }\n",
       "\n",
       "    .dataframe thead th {\n",
       "        text-align: right;\n",
       "    }\n",
       "</style>\n",
       "<table border=\"1\" class=\"dataframe\">\n",
       "  <thead>\n",
       "    <tr style=\"text-align: right;\">\n",
       "      <th></th>\n",
       "      <th>start</th>\n",
       "      <th>end</th>\n",
       "      <th>dr</th>\n",
       "      <th>dz</th>\n",
       "      <th>rz_angle</th>\n",
       "      <th>volayer_span</th>\n",
       "    </tr>\n",
       "  </thead>\n",
       "  <tbody>\n",
       "    <tr>\n",
       "      <th>0</th>\n",
       "      <td>23346</td>\n",
       "      <td>31387</td>\n",
       "      <td>40.713787</td>\n",
       "      <td>77.2798</td>\n",
       "      <td>0.785398</td>\n",
       "      <td>1</td>\n",
       "    </tr>\n",
       "    <tr>\n",
       "      <th>1</th>\n",
       "      <td>31387</td>\n",
       "      <td>38927</td>\n",
       "      <td>43.413342</td>\n",
       "      <td>82.3950</td>\n",
       "      <td>0.785398</td>\n",
       "      <td>1</td>\n",
       "    </tr>\n",
       "    <tr>\n",
       "      <th>2</th>\n",
       "      <td>38927</td>\n",
       "      <td>45412</td>\n",
       "      <td>55.846713</td>\n",
       "      <td>105.8880</td>\n",
       "      <td>0.785398</td>\n",
       "      <td>1</td>\n",
       "    </tr>\n",
       "    <tr>\n",
       "      <th>3</th>\n",
       "      <td>45412</td>\n",
       "      <td>77184</td>\n",
       "      <td>87.735818</td>\n",
       "      <td>165.8420</td>\n",
       "      <td>0.785398</td>\n",
       "      <td>1</td>\n",
       "    </tr>\n",
       "    <tr>\n",
       "      <th>4</th>\n",
       "      <td>77184</td>\n",
       "      <td>84457</td>\n",
       "      <td>102.924159</td>\n",
       "      <td>195.8000</td>\n",
       "      <td>0.785398</td>\n",
       "      <td>1</td>\n",
       "    </tr>\n",
       "    <tr>\n",
       "      <th>5</th>\n",
       "      <td>84457</td>\n",
       "      <td>91226</td>\n",
       "      <td>136.779594</td>\n",
       "      <td>260.0000</td>\n",
       "      <td>0.785398</td>\n",
       "      <td>1</td>\n",
       "    </tr>\n",
       "  </tbody>\n",
       "</table>\n",
       "</div>"
      ],
      "text/plain": [
       "   start    end          dr        dz  rz_angle  volayer_span\n",
       "0  23346  31387   40.713787   77.2798  0.785398             1\n",
       "1  31387  38927   43.413342   82.3950  0.785398             1\n",
       "2  38927  45412   55.846713  105.8880  0.785398             1\n",
       "3  45412  77184   87.735818  165.8420  0.785398             1\n",
       "4  77184  84457  102.924159  195.8000  0.785398             1\n",
       "5  84457  91226  136.779594  260.0000  0.785398             1"
      ]
     },
     "execution_count": 13,
     "metadata": {},
     "output_type": "execute_result"
    }
   ],
   "source": [
    "true_tracks = recreate_tracks(hits, truth)\n",
    "true_doublets = tracks_to_xplets(true_tracks, x=2)\n",
    "\n",
    "doublets = pd.DataFrame(true_doublets, columns=['start', 'end'])\n",
    "\n",
    "doublets['dr'] = hits.loc[doublets.end].r.values - hits.loc[doublets.start].r.values \n",
    "doublets['dz'] = hits.loc[doublets.end].z.values - hits.loc[doublets.start].z.values \n",
    "\n",
    "doublets['rz_angle'] = np.arctan2(doublets.dz, doublets.dz)\n",
    "doublets['volayer_span'] = np.abs(hits.loc[doublets.end].volayer.values - hits.loc[doublets.start].volayer.values)\n",
    "doublets.head(6)"
   ]
  },
  {
   "cell_type": "code",
   "execution_count": 14,
   "metadata": {},
   "outputs": [
    {
     "data": {
      "text/html": [
       "<div>\n",
       "<style scoped>\n",
       "    .dataframe tbody tr th:only-of-type {\n",
       "        vertical-align: middle;\n",
       "    }\n",
       "\n",
       "    .dataframe tbody tr th {\n",
       "        vertical-align: top;\n",
       "    }\n",
       "\n",
       "    .dataframe thead th {\n",
       "        text-align: right;\n",
       "    }\n",
       "</style>\n",
       "<table border=\"1\" class=\"dataframe\">\n",
       "  <thead>\n",
       "    <tr style=\"text-align: right;\">\n",
       "      <th></th>\n",
       "      <th>rz_angle</th>\n",
       "      <th>volayer_span</th>\n",
       "    </tr>\n",
       "  </thead>\n",
       "  <tbody>\n",
       "    <tr>\n",
       "      <th>count</th>\n",
       "      <td>5337.000000</td>\n",
       "      <td>5337.000000</td>\n",
       "    </tr>\n",
       "    <tr>\n",
       "      <th>mean</th>\n",
       "      <td>-0.779217</td>\n",
       "      <td>1.029043</td>\n",
       "    </tr>\n",
       "    <tr>\n",
       "      <th>std</th>\n",
       "      <td>1.569164</td>\n",
       "      <td>0.171256</td>\n",
       "    </tr>\n",
       "    <tr>\n",
       "      <th>min</th>\n",
       "      <td>-2.356194</td>\n",
       "      <td>1.000000</td>\n",
       "    </tr>\n",
       "    <tr>\n",
       "      <th>25%</th>\n",
       "      <td>-2.356194</td>\n",
       "      <td>1.000000</td>\n",
       "    </tr>\n",
       "    <tr>\n",
       "      <th>50%</th>\n",
       "      <td>0.000000</td>\n",
       "      <td>1.000000</td>\n",
       "    </tr>\n",
       "    <tr>\n",
       "      <th>75%</th>\n",
       "      <td>0.785398</td>\n",
       "      <td>1.000000</td>\n",
       "    </tr>\n",
       "    <tr>\n",
       "      <th>max</th>\n",
       "      <td>0.785398</td>\n",
       "      <td>3.000000</td>\n",
       "    </tr>\n",
       "  </tbody>\n",
       "</table>\n",
       "</div>"
      ],
      "text/plain": [
       "          rz_angle  volayer_span\n",
       "count  5337.000000   5337.000000\n",
       "mean     -0.779217      1.029043\n",
       "std       1.569164      0.171256\n",
       "min      -2.356194      1.000000\n",
       "25%      -2.356194      1.000000\n",
       "50%       0.000000      1.000000\n",
       "75%       0.785398      1.000000\n",
       "max       0.785398      3.000000"
      ]
     },
     "execution_count": 14,
     "metadata": {},
     "output_type": "execute_result"
    }
   ],
   "source": [
    "doublets[['rz_angle', 'volayer_span']].describe()"
   ]
  },
  {
   "cell_type": "code",
   "execution_count": 15,
   "metadata": {},
   "outputs": [
    {
     "data": {
      "text/plain": [
       "1    5185\n",
       "2     149\n",
       "3       3\n",
       "Name: volayer_span, dtype: int64"
      ]
     },
     "execution_count": 15,
     "metadata": {},
     "output_type": "execute_result"
    }
   ],
   "source": [
    "doublets.volayer_span.value_counts()"
   ]
  },
  {
   "cell_type": "markdown",
   "metadata": {},
   "source": [
    "## Prepare triplets"
   ]
  },
  {
   "cell_type": "code",
   "execution_count": 16,
   "metadata": {},
   "outputs": [],
   "source": [
    "def compute_rz_angle(h1, h2):\n",
    "     return np.arctan2(hits.r.get(h2) - hits.r.get(h1), hits.z.get(h2) - hits.z.get(h1))"
   ]
  },
  {
   "cell_type": "code",
   "execution_count": 17,
   "metadata": {},
   "outputs": [
    {
     "data": {
      "text/html": [
       "<div>\n",
       "<style scoped>\n",
       "    .dataframe tbody tr th:only-of-type {\n",
       "        vertical-align: middle;\n",
       "    }\n",
       "\n",
       "    .dataframe tbody tr th {\n",
       "        vertical-align: top;\n",
       "    }\n",
       "\n",
       "    .dataframe thead th {\n",
       "        text-align: right;\n",
       "    }\n",
       "</style>\n",
       "<table border=\"1\" class=\"dataframe\">\n",
       "  <thead>\n",
       "    <tr style=\"text-align: right;\">\n",
       "      <th></th>\n",
       "      <th>s</th>\n",
       "      <th>m</th>\n",
       "      <th>e</th>\n",
       "      <th>drz</th>\n",
       "      <th>curv</th>\n",
       "      <th>volayer_span</th>\n",
       "    </tr>\n",
       "  </thead>\n",
       "  <tbody>\n",
       "    <tr>\n",
       "      <th>0</th>\n",
       "      <td>23346</td>\n",
       "      <td>31387</td>\n",
       "      <td>38927</td>\n",
       "      <td>0.000044</td>\n",
       "      <td>-0.000501</td>\n",
       "      <td>2</td>\n",
       "    </tr>\n",
       "    <tr>\n",
       "      <th>1</th>\n",
       "      <td>31387</td>\n",
       "      <td>38927</td>\n",
       "      <td>45412</td>\n",
       "      <td>0.000407</td>\n",
       "      <td>-0.000617</td>\n",
       "      <td>2</td>\n",
       "    </tr>\n",
       "    <tr>\n",
       "      <th>2</th>\n",
       "      <td>38927</td>\n",
       "      <td>45412</td>\n",
       "      <td>77184</td>\n",
       "      <td>0.001266</td>\n",
       "      <td>-0.000547</td>\n",
       "      <td>2</td>\n",
       "    </tr>\n",
       "    <tr>\n",
       "      <th>3</th>\n",
       "      <td>45412</td>\n",
       "      <td>77184</td>\n",
       "      <td>84457</td>\n",
       "      <td>0.002639</td>\n",
       "      <td>-0.000522</td>\n",
       "      <td>2</td>\n",
       "    </tr>\n",
       "    <tr>\n",
       "      <th>4</th>\n",
       "      <td>77184</td>\n",
       "      <td>84457</td>\n",
       "      <td>91226</td>\n",
       "      <td>0.000326</td>\n",
       "      <td>-0.000555</td>\n",
       "      <td>2</td>\n",
       "    </tr>\n",
       "  </tbody>\n",
       "</table>\n",
       "</div>"
      ],
      "text/plain": [
       "       s      m      e       drz      curv  volayer_span\n",
       "0  23346  31387  38927  0.000044 -0.000501             2\n",
       "1  31387  38927  45412  0.000407 -0.000617             2\n",
       "2  38927  45412  77184  0.001266 -0.000547             2\n",
       "3  45412  77184  84457  0.002639 -0.000522             2\n",
       "4  77184  84457  91226  0.000326 -0.000555             2"
      ]
     },
     "execution_count": 17,
     "metadata": {},
     "output_type": "execute_result"
    }
   ],
   "source": [
    "true_triplets = tracks_to_xplets(true_tracks, x=3)\n",
    "\n",
    "triplets = pd.DataFrame(true_triplets, columns=['s', 'm', 'e'])\n",
    "\n",
    "drz = [angle_diff(compute_rz_angle(s, m), compute_rz_angle(m, e)) for s,m,e in triplets.values]\n",
    "curv = [curvature(*hits.loc[t][['x','y']].values) for t in triplets.values]\n",
    "\n",
    "triplets['drz'] = drz\n",
    "triplets['curv'] = curv\n",
    "\n",
    "triplets['volayer_span'] = np.abs(hits.loc[triplets.e].volayer.values - hits.loc[triplets.s].volayer.values)\n",
    "\n",
    "triplets.head()"
   ]
  },
  {
   "cell_type": "markdown",
   "metadata": {},
   "source": [
    "## Analyse triplets"
   ]
  },
  {
   "cell_type": "code",
   "execution_count": 18,
   "metadata": {},
   "outputs": [
    {
     "data": {
      "text/html": [
       "<div>\n",
       "<style scoped>\n",
       "    .dataframe tbody tr th:only-of-type {\n",
       "        vertical-align: middle;\n",
       "    }\n",
       "\n",
       "    .dataframe tbody tr th {\n",
       "        vertical-align: top;\n",
       "    }\n",
       "\n",
       "    .dataframe thead th {\n",
       "        text-align: right;\n",
       "    }\n",
       "</style>\n",
       "<table border=\"1\" class=\"dataframe\">\n",
       "  <thead>\n",
       "    <tr style=\"text-align: right;\">\n",
       "      <th></th>\n",
       "      <th>drz</th>\n",
       "      <th>curv</th>\n",
       "      <th>volayer_span</th>\n",
       "    </tr>\n",
       "  </thead>\n",
       "  <tbody>\n",
       "    <tr>\n",
       "      <th>count</th>\n",
       "      <td>4377.000000</td>\n",
       "      <td>4377.000000</td>\n",
       "      <td>4377.000000</td>\n",
       "    </tr>\n",
       "    <tr>\n",
       "      <th>mean</th>\n",
       "      <td>0.006033</td>\n",
       "      <td>-0.000001</td>\n",
       "      <td>2.044551</td>\n",
       "    </tr>\n",
       "    <tr>\n",
       "      <th>std</th>\n",
       "      <td>0.032474</td>\n",
       "      <td>0.000656</td>\n",
       "      <td>0.211805</td>\n",
       "    </tr>\n",
       "    <tr>\n",
       "      <th>min</th>\n",
       "      <td>0.000000</td>\n",
       "      <td>-0.016020</td>\n",
       "      <td>2.000000</td>\n",
       "    </tr>\n",
       "    <tr>\n",
       "      <th>25%</th>\n",
       "      <td>0.000370</td>\n",
       "      <td>-0.000411</td>\n",
       "      <td>2.000000</td>\n",
       "    </tr>\n",
       "    <tr>\n",
       "      <th>50%</th>\n",
       "      <td>0.001120</td>\n",
       "      <td>-0.000104</td>\n",
       "      <td>2.000000</td>\n",
       "    </tr>\n",
       "    <tr>\n",
       "      <th>75%</th>\n",
       "      <td>0.003703</td>\n",
       "      <td>0.000421</td>\n",
       "      <td>2.000000</td>\n",
       "    </tr>\n",
       "    <tr>\n",
       "      <th>max</th>\n",
       "      <td>0.971740</td>\n",
       "      <td>0.017392</td>\n",
       "      <td>4.000000</td>\n",
       "    </tr>\n",
       "  </tbody>\n",
       "</table>\n",
       "</div>"
      ],
      "text/plain": [
       "               drz         curv  volayer_span\n",
       "count  4377.000000  4377.000000   4377.000000\n",
       "mean      0.006033    -0.000001      2.044551\n",
       "std       0.032474     0.000656      0.211805\n",
       "min       0.000000    -0.016020      2.000000\n",
       "25%       0.000370    -0.000411      2.000000\n",
       "50%       0.001120    -0.000104      2.000000\n",
       "75%       0.003703     0.000421      2.000000\n",
       "max       0.971740     0.017392      4.000000"
      ]
     },
     "execution_count": 18,
     "metadata": {},
     "output_type": "execute_result"
    }
   ],
   "source": [
    "triplets[['drz', 'curv', 'volayer_span']].describe()"
   ]
  },
  {
   "cell_type": "code",
   "execution_count": 19,
   "metadata": {},
   "outputs": [
    {
     "data": {
      "text/plain": [
       "2    4187\n",
       "3     185\n",
       "4       5\n",
       "Name: volayer_span, dtype: int64"
      ]
     },
     "execution_count": 19,
     "metadata": {},
     "output_type": "execute_result"
    }
   ],
   "source": [
    "triplets.volayer_span.value_counts()"
   ]
  },
  {
   "cell_type": "code",
   "execution_count": 35,
   "metadata": {},
   "outputs": [
    {
     "data": {
      "image/png": "[encoded data removed]",
      "text/plain": [
       "<Figure size 432x288 with 1 Axes>"
      ]
     },
     "metadata": {
      "needs_background": "light"
     },
     "output_type": "display_data"
    }
   ],
   "source": [
    "plt.figure()\n",
    "triplets.drz.hist(density=True, bins=100, label='delta RZ angle')\n",
    "plt.legend()\n",
    "_ = _"
   ]
  },
  {
   "cell_type": "code",
   "execution_count": 36,
   "metadata": {},
   "outputs": [
    {
     "data": {
      "image/png": "[encoded data removed]",
      "text/plain": [
       "<Figure size 432x288 with 1 Axes>"
      ]
     },
     "metadata": {
      "needs_background": "light"
     },
     "output_type": "display_data"
    }
   ],
   "source": [
    "plt.figure()\n",
    "triplets.curv.hist(density=True, bins=100, label='curvature')\n",
    "plt.legend()\n",
    "_ = _"
   ]
  },
  {
   "cell_type": "markdown",
   "metadata": {},
   "source": [
    "## Prepare quadruplets"
   ]
  },
  {
   "cell_type": "code",
   "execution_count": 22,
   "metadata": {},
   "outputs": [
    {
     "data": {
      "text/html": [
       "<div>\n",
       "<style scoped>\n",
       "    .dataframe tbody tr th:only-of-type {\n",
       "        vertical-align: middle;\n",
       "    }\n",
       "\n",
       "    .dataframe tbody tr th {\n",
       "        vertical-align: top;\n",
       "    }\n",
       "\n",
       "    .dataframe thead th {\n",
       "        text-align: right;\n",
       "    }\n",
       "</style>\n",
       "<table border=\"1\" class=\"dataframe\">\n",
       "  <thead>\n",
       "    <tr style=\"text-align: right;\">\n",
       "      <th></th>\n",
       "      <th>a</th>\n",
       "      <th>b</th>\n",
       "      <th>c</th>\n",
       "      <th>d</th>\n",
       "      <th>ddrz</th>\n",
       "      <th>max_drz</th>\n",
       "      <th>dcurv</th>\n",
       "      <th>volayer_span</th>\n",
       "    </tr>\n",
       "  </thead>\n",
       "  <tbody>\n",
       "    <tr>\n",
       "      <th>0</th>\n",
       "      <td>23346</td>\n",
       "      <td>31387</td>\n",
       "      <td>38927</td>\n",
       "      <td>45412</td>\n",
       "      <td>0.000363</td>\n",
       "      <td>0.000407</td>\n",
       "      <td>0.000116</td>\n",
       "      <td>3</td>\n",
       "    </tr>\n",
       "    <tr>\n",
       "      <th>1</th>\n",
       "      <td>31387</td>\n",
       "      <td>38927</td>\n",
       "      <td>45412</td>\n",
       "      <td>77184</td>\n",
       "      <td>0.000859</td>\n",
       "      <td>0.001266</td>\n",
       "      <td>0.000070</td>\n",
       "      <td>3</td>\n",
       "    </tr>\n",
       "    <tr>\n",
       "      <th>2</th>\n",
       "      <td>38927</td>\n",
       "      <td>45412</td>\n",
       "      <td>77184</td>\n",
       "      <td>84457</td>\n",
       "      <td>0.001373</td>\n",
       "      <td>0.002639</td>\n",
       "      <td>0.000026</td>\n",
       "      <td>3</td>\n",
       "    </tr>\n",
       "    <tr>\n",
       "      <th>3</th>\n",
       "      <td>45412</td>\n",
       "      <td>77184</td>\n",
       "      <td>84457</td>\n",
       "      <td>91226</td>\n",
       "      <td>0.002313</td>\n",
       "      <td>0.002639</td>\n",
       "      <td>0.000033</td>\n",
       "      <td>3</td>\n",
       "    </tr>\n",
       "    <tr>\n",
       "      <th>4</th>\n",
       "      <td>19817</td>\n",
       "      <td>27902</td>\n",
       "      <td>34321</td>\n",
       "      <td>40692</td>\n",
       "      <td>0.000997</td>\n",
       "      <td>0.001128</td>\n",
       "      <td>0.000010</td>\n",
       "      <td>3</td>\n",
       "    </tr>\n",
       "  </tbody>\n",
       "</table>\n",
       "</div>"
      ],
      "text/plain": [
       "       a      b      c      d      ddrz   max_drz     dcurv  volayer_span\n",
       "0  23346  31387  38927  45412  0.000363  0.000407  0.000116             3\n",
       "1  31387  38927  45412  77184  0.000859  0.001266  0.000070             3\n",
       "2  38927  45412  77184  84457  0.001373  0.002639  0.000026             3\n",
       "3  45412  77184  84457  91226  0.002313  0.002639  0.000033             3\n",
       "4  19817  27902  34321  40692  0.000997  0.001128  0.000010             3"
      ]
     },
     "execution_count": 22,
     "metadata": {},
     "output_type": "execute_result"
    }
   ],
   "source": [
    "true_qplets = tracks_to_xplets(true_tracks, x=4)\n",
    "\n",
    "qplets = pd.DataFrame(true_qplets, columns=['a', 'b', 'c', 'd'])\n",
    "\n",
    "drz = [(\n",
    "        angle_diff(compute_rz_angle(t[0], t[1]), compute_rz_angle(t[1], t[2])),\n",
    "        angle_diff(compute_rz_angle(t[1], t[2]), compute_rz_angle(t[2], t[3])))\n",
    "    for t in qplets.values]\n",
    "\n",
    "ddrz = [angle_diff(a,b) for a,b in drz]\n",
    "\n",
    "max_drz = [max(i) for i in drz]\n",
    "max_drz_2 = [min(max(i), max([abs(np.pi - j) for j in i])) for i in drz]\n",
    "dcurv = [np.abs(\n",
    "            curvature(*hits.loc[t[:3]][['x','y']].values) - \n",
    "            curvature(*hits.loc[t[-3:]][['x','y']].values))  \n",
    "         for t in qplets.values]\n",
    "\n",
    "\n",
    "\n",
    "qplets['ddrz'] = ddrz\n",
    "qplets['max_drz'] = max_drz\n",
    "qplets['dcurv'] = dcurv\n",
    "\n",
    "qplets['volayer_span'] = np.abs(hits.loc[qplets.d].volayer.values - hits.loc[qplets.a].volayer.values)\n",
    "\n",
    "qplets.head()"
   ]
  },
  {
   "cell_type": "markdown",
   "metadata": {},
   "source": [
    "## Analyse quadruplets"
   ]
  },
  {
   "cell_type": "code",
   "execution_count": 23,
   "metadata": {
    "scrolled": true
   },
   "outputs": [
    {
     "data": {
      "text/html": [
       "<div>\n",
       "<style scoped>\n",
       "    .dataframe tbody tr th:only-of-type {\n",
       "        vertical-align: middle;\n",
       "    }\n",
       "\n",
       "    .dataframe tbody tr th {\n",
       "        vertical-align: top;\n",
       "    }\n",
       "\n",
       "    .dataframe thead th {\n",
       "        text-align: right;\n",
       "    }\n",
       "</style>\n",
       "<table border=\"1\" class=\"dataframe\">\n",
       "  <thead>\n",
       "    <tr style=\"text-align: right;\">\n",
       "      <th></th>\n",
       "      <th>ddrz</th>\n",
       "      <th>max_drz</th>\n",
       "      <th>dcurv</th>\n",
       "      <th>volayer_span</th>\n",
       "    </tr>\n",
       "  </thead>\n",
       "  <tbody>\n",
       "    <tr>\n",
       "      <th>count</th>\n",
       "      <td>3567.000000</td>\n",
       "      <td>3567.000000</td>\n",
       "      <td>3.567000e+03</td>\n",
       "      <td>3567.000000</td>\n",
       "    </tr>\n",
       "    <tr>\n",
       "      <th>mean</th>\n",
       "      <td>0.004570</td>\n",
       "      <td>0.007865</td>\n",
       "      <td>4.763633e-05</td>\n",
       "      <td>3.058312</td>\n",
       "    </tr>\n",
       "    <tr>\n",
       "      <th>std</th>\n",
       "      <td>0.022244</td>\n",
       "      <td>0.038333</td>\n",
       "      <td>6.691985e-04</td>\n",
       "      <td>0.240274</td>\n",
       "    </tr>\n",
       "    <tr>\n",
       "      <th>min</th>\n",
       "      <td>0.000000</td>\n",
       "      <td>0.000000</td>\n",
       "      <td>5.884004e-09</td>\n",
       "      <td>3.000000</td>\n",
       "    </tr>\n",
       "    <tr>\n",
       "      <th>25%</th>\n",
       "      <td>0.000374</td>\n",
       "      <td>0.000829</td>\n",
       "      <td>4.785884e-06</td>\n",
       "      <td>3.000000</td>\n",
       "    </tr>\n",
       "    <tr>\n",
       "      <th>50%</th>\n",
       "      <td>0.001097</td>\n",
       "      <td>0.002111</td>\n",
       "      <td>1.093733e-05</td>\n",
       "      <td>3.000000</td>\n",
       "    </tr>\n",
       "    <tr>\n",
       "      <th>75%</th>\n",
       "      <td>0.003221</td>\n",
       "      <td>0.005528</td>\n",
       "      <td>2.155249e-05</td>\n",
       "      <td>3.000000</td>\n",
       "    </tr>\n",
       "    <tr>\n",
       "      <th>max</th>\n",
       "      <td>0.696198</td>\n",
       "      <td>0.971740</td>\n",
       "      <td>2.845133e-02</td>\n",
       "      <td>5.000000</td>\n",
       "    </tr>\n",
       "  </tbody>\n",
       "</table>\n",
       "</div>"
      ],
      "text/plain": [
       "              ddrz      max_drz         dcurv  volayer_span\n",
       "count  3567.000000  3567.000000  3.567000e+03   3567.000000\n",
       "mean      0.004570     0.007865  4.763633e-05      3.058312\n",
       "std       0.022244     0.038333  6.691985e-04      0.240274\n",
       "min       0.000000     0.000000  5.884004e-09      3.000000\n",
       "25%       0.000374     0.000829  4.785884e-06      3.000000\n",
       "50%       0.001097     0.002111  1.093733e-05      3.000000\n",
       "75%       0.003221     0.005528  2.155249e-05      3.000000\n",
       "max       0.696198     0.971740  2.845133e-02      5.000000"
      ]
     },
     "execution_count": 23,
     "metadata": {},
     "output_type": "execute_result"
    }
   ],
   "source": [
    "qplets[['ddrz', 'max_drz', 'dcurv', 'volayer_span']].describe()"
   ]
  },
  {
   "cell_type": "code",
   "execution_count": 24,
   "metadata": {},
   "outputs": [
    {
     "data": {
      "text/plain": [
       "3    3364\n",
       "4     198\n",
       "5       5\n",
       "Name: volayer_span, dtype: int64"
      ]
     },
     "execution_count": 24,
     "metadata": {},
     "output_type": "execute_result"
    }
   ],
   "source": [
    "qplets.volayer_span.value_counts()"
   ]
  },
  {
   "cell_type": "code",
   "execution_count": 25,
   "metadata": {},
   "outputs": [
    {
     "data": {
      "image/png": "[encoded data removed]",
      "text/plain": [
       "<Figure size 432x288 with 1 Axes>"
      ]
     },
     "metadata": {
      "needs_background": "light"
     },
     "output_type": "display_data"
    }
   ],
   "source": [
    "plt.figure(figsize=(6,4))\n",
    "qplets.max_drz.hist(density=True, bins=100, label='delta RZ angle')\n",
    "plt.legend()\n",
    "_ = _"
   ]
  },
  {
   "cell_type": "code",
   "execution_count": 37,
   "metadata": {},
   "outputs": [
    {
     "data": {
      "image/png": "[encoded data removed]",
      "text/plain": [
       "<Figure size 432x288 with 1 Axes>"
      ]
     },
     "metadata": {
      "needs_background": "light"
     },
     "output_type": "display_data"
    }
   ],
   "source": [
    "plt.figure(figsize=(6,4))\n",
    "qplets.max_drz.hist(density=True, bins=100, label='max delta RZ angle')\n",
    "plt.legend()\n",
    "_ = _"
   ]
  },
  {
   "cell_type": "code",
   "execution_count": 38,
   "metadata": {},
   "outputs": [
    {
     "data": {
      "image/png": "[encoded data removed]",
      "text/plain": [
       "<Figure size 432x288 with 1 Axes>"
      ]
     },
     "metadata": {
      "needs_background": "light"
     },
     "output_type": "display_data"
    }
   ],
   "source": [
    "plt.figure(figsize=(6,4))\n",
    "qplets.dcurv.hist(density=True, bins=100, label='delta curvature')\n",
    "plt.legend()\n",
    "_ = _"
   ]
  },
  {
   "cell_type": "markdown",
   "metadata": {},
   "source": [
    "## View strength"
   ]
  },
  {
   "cell_type": "code",
   "execution_count": 28,
   "metadata": {},
   "outputs": [],
   "source": [
    "class Config():\n",
    "\n",
    "    cheat = False\n",
    "    # === Hard cut\n",
    "\n",
    "    #: Doublets can miss at most (max_layer_span - 1) layers.\n",
    "    #: Note that triplets and quadruplets also have this limitation, i.e.\n",
    "    #: any xplet will at most miss (max_layer_span - 1) layers\n",
    "    max_layer_span = 2\n",
    "\n",
    "    #: Maximum radius of curvature for a triplet. The curvature is computed using\n",
    "    #: the *Mengel curvature*.\n",
    "    tplet_max_curv = 5E-3\n",
    "    #: Maximum (absolute) difference between the angles in the R-Z plane of the two doublets forming\n",
    "    #: the triplet. The angles are defined as arctan(dz/dr).\n",
    "    tplet_max_drz = 0.2\n",
    "\n",
    "    #: Maximum difference between the radius of curvature of the two triplets forming the quadruplet.\n",
    "    qplet_max_dcurv = 5E-4\n",
    "    #: Maximum strength of a quadruplet. This cut is really efficient, but the actual value depends\n",
    "    #: highly on the strength function parameters (see below)\n",
    "    qplet_max_strength = -0.2\n",
    "\n",
    "    #: Linear bias weight associated to triplets in the QUBO.\n",
    "    qubo_bias_weight = -0.01\n",
    "    #: Quadratic coupling strength associated to two conflicting triplets in the QUBO.\n",
    "    #: Set it to 1 (other things being equal) to avoid conflicts.\n",
    "    qubo_conflict_strength = 0.5\n",
    "\n",
    "    # strength computation\n",
    "    #: Factor of the numerator in the strength formula. Should be negative.\n",
    "    num_multiplier = -1\n",
    "    #: Ponderation between the curvature (X-Y plane) and the delta angle (R-Z plane) in the numerator.\n",
    "    #: Should be a percentage (0 <= `xy_relative_strength` <= 1).\n",
    "    xy_relative_strength = 0.5\n",
    "    #: Exponent of the curvature (X-Y plane) in the strength formula. Should be >= 0.\n",
    "    xy_power = 1\n",
    "    #: Exponent of the delta angle (R-Z plane) in the strength formula. Should be >= 0.\n",
    "    rz_power = 1\n",
    "    #: Exponent of the \"layer miss\" in the strength formula (denominator). Should be >= 0.\n",
    "    volayer_power = 2\n",
    "    #: Clipping bounds of the strength. If defined, strength values outside those bounds will take the\n",
    "    #: value of the bound.\n",
    "    strength_bounds = None"
   ]
  },
  {
   "cell_type": "code",
   "execution_count": 29,
   "metadata": {},
   "outputs": [],
   "source": [
    "def filter_qplets(config, qplets):\n",
    "    mask = (qplets.dcurv <= config.qplet_max_dcurv) & \\\n",
    "           (qplets.max_drz < config.tplet_max_drz) & \\\n",
    "           (qplets.volayer_span > 3) & \\\n",
    "           (qplets.volayer_span <= 2 + config.max_layer_span)\n",
    "    return qplets[mask], qplets[~mask]"
   ]
  },
  {
   "cell_type": "code",
   "execution_count": 30,
   "metadata": {},
   "outputs": [],
   "source": [
    "def compute_strength(qplet) -> float:\n",
    "    # Combine information about the layer miss, the alignment in the R-Z plane and the curvature in the X-Y plane.\n",
    "    # The strength is negative, its range depending on the configuration (default: 1 >= strength >= max_strength)\n",
    "\n",
    "    # normalised difference of curvature between the two triplets\n",
    "    xy_strength = 1 - ((qplet.dcurv/config.qplet_max_dcurv) ** config.xy_power)\n",
    "\n",
    "    # normalised [maximum] angle in the R-Z plane\n",
    "    rz_strength = 1 - ((qplet.max_drz/config.tplet_max_drz) ** config.rz_power)\n",
    "\n",
    "    # numerator: combine both X-Y and R-Z plane information\n",
    "    numerator = config.num_multiplier * (\n",
    "            config.xy_relative_strength * xy_strength +\n",
    "            (1 - config.xy_relative_strength) * rz_strength\n",
    "    )\n",
    "\n",
    "    # denominator: shrink the strength proportional to the number of layer miss\n",
    "    exceeding_volayer_span = qplet.volayer_span - 3\n",
    "    denominator = (1 + exceeding_volayer_span) ** config.volayer_power\n",
    "\n",
    "    strength = numerator / denominator\n",
    "\n",
    "    # clip the strength if needed\n",
    "    if config.strength_bounds is not None:\n",
    "        strength = np.clip(strength, *config.strength_bounds)\n",
    "\n",
    "    return strength"
   ]
  },
  {
   "cell_type": "code",
   "execution_count": 31,
   "metadata": {},
   "outputs": [],
   "source": [
    "def plot_strengths(strengths):\n",
    "    plt.figure(figsize=(8,4))\n",
    "    plt.hist(strengths, bins=100)"
   ]
  },
  {
   "cell_type": "markdown",
   "metadata": {},
   "source": [
    "### Using basic config"
   ]
  },
  {
   "cell_type": "code",
   "execution_count": 32,
   "metadata": {
    "scrolled": true
   },
   "outputs": [
    {
     "name": "stdout",
     "output_type": "stream",
     "text": [
      "203, 196 => missing 3371\n"
     ]
    },
    {
     "data": {
      "text/plain": [
       "(196, 196, 3371)"
      ]
     },
     "execution_count": 32,
     "metadata": {},
     "output_type": "execute_result"
    },
    {
     "data": {
      "image/png": "[encoded data removed]",
      "text/plain": [
       "<Figure size 576x288 with 1 Axes>"
      ]
     },
     "metadata": {
      "needs_background": "light"
     },
     "output_type": "display_data"
    }
   ],
   "source": [
    "config = Config()\n",
    "ins, outs = filter_qplets(config, qplets)\n",
    "strengths = compute_strength(ins)\n",
    "plot_strengths(strengths)\n",
    "print(f'{len(qplets[qplets.volayer_span > 3])}, {len(ins)} => missing {len(outs)}')\n",
    "len(strengths), len(ins), len(outs)"
   ]
  },
  {
   "cell_type": "markdown",
   "metadata": {},
   "source": [
    "### Strengthening the cuts"
   ]
  },
  {
   "cell_type": "code",
   "execution_count": 33,
   "metadata": {},
   "outputs": [
    {
     "name": "stdout",
     "output_type": "stream",
     "text": [
      "3567, 196 => missing 3371\n"
     ]
    },
    {
     "data": {
      "text/plain": [
       "(196, 196, 3371)"
      ]
     },
     "execution_count": 33,
     "metadata": {},
     "output_type": "execute_result"
    },
    {
     "data": {
      "image/png": "[encoded data removed]",
      "text/plain": [
       "<Figure size 576x288 with 1 Axes>"
      ]
     },
     "metadata": {
      "needs_background": "light"
     },
     "output_type": "display_data"
    }
   ],
   "source": [
    "config = Config()\n",
    "\n",
    "config.tplet_max_curv = 8E-4 # instead of 5E-3 / 0.005\n",
    "config.tplet_max_drz  = 0.1 # instead of 0.2\n",
    "config.qplet_max_dcurv = 1E-4 # instead of 5E-4 / 0.0005\n",
    "\n",
    "config.xy_power = 2 # instead of 1\n",
    "config.rz_power = 2 # instead of 1\n",
    "\n",
    "ins, outs = filter_qplets(config, qplets)\n",
    "strengths = compute_strength(ins)\n",
    "plot_strengths(strengths)\n",
    "print(f'{len(qplets)}, {len(ins)} => missing {len(outs)}')\n",
    "len(strengths), len(ins), len(outs)"
   ]
  },
  {
   "cell_type": "code",
   "execution_count": 34,
   "metadata": {},
   "outputs": [
    {
     "name": "stdout",
     "output_type": "stream",
     "text": [
      "3567, 196 => missing 3371\n"
     ]
    },
    {
     "data": {
      "text/plain": [
       "(196, 196, 3371)"
      ]
     },
     "execution_count": 34,
     "metadata": {},
     "output_type": "execute_result"
    },
    {
     "data": {
      "image/png": "[encoded data removed]",
      "text/plain": [
       "<Figure size 576x288 with 1 Axes>"
      ]
     },
     "metadata": {
      "needs_background": "light"
     },
     "output_type": "display_data"
    }
   ],
   "source": [
    "config.xy_power = 2 # instead of 1\n",
    "config.rz_power = 2 # instead of 1\n",
    "\n",
    "ins, outs = filter_qplets(config, qplets)\n",
    "strengths = compute_strength(ins)\n",
    "plot_strengths(strengths)\n",
    "print(f'{len(qplets)}, {len(ins)} => missing {len(outs)}')\n",
    "len(strengths), len(ins), len(outs)"
   ]
  },
  {
   "cell_type": "code",
   "execution_count": null,
   "metadata": {},
   "outputs": [],
   "source": []
  }
 ],
 "metadata": {
  "kernelspec": {
   "display_name": "Python [conda env:project-2]",
   "language": "python",
   "name": "conda-env-project-2-py"
  },
  "language_info": {
   "codemirror_mode": {
    "name": "ipython",
    "version": 3
   },
   "file_extension": ".py",
   "mimetype": "text/x-python",
   "name": "python",
   "nbconvert_exporter": "python",
   "pygments_lexer": "ipython3",
   "version": "3.7.1"
  }
 },
 "nbformat": 4,
 "nbformat_minor": 2
}
